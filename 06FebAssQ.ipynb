{
 "cells": [
  {
   "cell_type": "code",
   "execution_count": 1,
   "id": "72eb128c-27b9-4701-9d12-c98ad4bbd547",
   "metadata": {},
   "outputs": [],
   "source": [
    "# Q1. Create a function which will take a list as an argument and return the product of all the numbers\n",
    "# after creating a flat list.\n",
    "# Use the below-given list as an argument for your function.\n",
    "# list1 = [1,2,3,4, [44,55,66, True], False, (34,56,78,89,34), {1,2,3,3,2,1}, {1:34, \"key2\": [55, 67, 78, 89], 4: (45,\n",
    "# 22, 61, 34)}, [56, 'data science'], 'Machine Learning']\n",
    "# Note: you must extract numeric keys and values of the dictionary also."
   ]
  },
  {
   "cell_type": "code",
   "execution_count": 3,
   "id": "8870d046-7a26-4be3-9264-3d71b6cfa0a3",
   "metadata": {},
   "outputs": [],
   "source": [
    "l = [1,2,3,4, [44,55,66, True], False, (34,56,78,89,34), {1,2,3,3,2,1}, {1:34, \"key2\": [55, 67, 78, 89], 4: (45,\n",
    "22, 61, 34)}, [56, 'data science'], 'Machine Learning']"
   ]
  },
  {
   "cell_type": "code",
   "execution_count": 4,
   "id": "6533764b-e4f1-42d0-b986-de66dd2787f8",
   "metadata": {},
   "outputs": [],
   "source": [
    "l1=[]"
   ]
  },
  {
   "cell_type": "code",
   "execution_count": 5,
   "id": "765a8eb5-8bcb-4145-97fc-dfaad27e0a13",
   "metadata": {},
   "outputs": [],
   "source": [
    "def product_List(l) :\n",
    "    for i in l:\n",
    "        if type(i) == int :\n",
    "            l1.append(i)\n",
    "        elif type(i) == list :\n",
    "            for j in i:\n",
    "                if type(j) == int :\n",
    "                    l1.append(j)\n",
    "        elif type(i) == tuple :\n",
    "            for j in i:\n",
    "                if type(j) == int :\n",
    "                    l1.append(j)\n",
    "        elif type(i) == set :\n",
    "            for j in i :\n",
    "                if type(j) == int :\n",
    "                    l1.append(j)\n",
    "        elif type(i) == dict :\n",
    "            for key,value in i.items() :\n",
    "                if type(value) == int :\n",
    "                    l1.append(value)\n",
    "                elif type(value) == list :\n",
    "                    for j in value :\n",
    "                        if type(j) == int :\n",
    "                            l1.append(j)\n",
    "                elif type(value) == tuple :\n",
    "                    for j in value :\n",
    "                        if type(j) == int:\n",
    "                            l1.append(j)\n",
    "    return l1"
   ]
  },
  {
   "cell_type": "code",
   "execution_count": 20,
   "id": "2a5d594e-5e5a-43b2-9975-a261fe041ef7",
   "metadata": {},
   "outputs": [],
   "source": [
    "pro_list=product_List(l)"
   ]
  },
  {
   "cell_type": "code",
   "execution_count": 21,
   "id": "05e4cab8-2db7-4da7-8db6-4bd67199e48f",
   "metadata": {},
   "outputs": [
    {
     "data": {
      "text/plain": [
       "24808271033922512873003047452672000"
      ]
     },
     "execution_count": 21,
     "metadata": {},
     "output_type": "execute_result"
    }
   ],
   "source": [
    "from functools import reduce \n",
    "\n",
    "reduce(lambda x,y:x*y,pro_list)"
   ]
  },
  {
   "cell_type": "code",
   "execution_count": null,
   "id": "a8dc6143-9554-4116-9656-58b632c4ffae",
   "metadata": {},
   "outputs": [],
   "source": [
    "# Q2. Write a python program for encrypting a message sent to you by your friend. The logic of encryption\n",
    "# should be such that, for a the output should be z. For b, the output should be y. For c, the output should\n",
    "# be x respectively. Also, the whitespace should be replaced with a dollar sign. Keep the punctuation\n",
    "# marks unchanged.\n",
    "# Input Sentence: I want to become a Data Scientist."
   ]
  },
  {
   "cell_type": "code",
   "execution_count": 34,
   "id": "b261b8c7-6ea8-4adf-8a5d-56ddb5694f3d",
   "metadata": {},
   "outputs": [],
   "source": [
    "s='I want to become a Data Scientist.'"
   ]
  },
  {
   "cell_type": "code",
   "execution_count": 35,
   "id": "3ece5cae-6131-4c8f-b80e-8d4b48d1c8d9",
   "metadata": {},
   "outputs": [
    {
     "name": "stdout",
     "output_type": "stream",
     "text": [
      "R$dzmg$gl$yvxlnv$z$Wzgz$Hxrvmgrhg.\n"
     ]
    }
   ],
   "source": [
    "s1=\"\"\n",
    "for i in s:\n",
    "    if ord(i)>= 65 and ord(i) <= 90:\n",
    "        s1=s1+chr(155-ord(i))\n",
    "    elif ord(i)>= 97 and ord(i) <= 122:\n",
    "          s1=s1+chr(219-ord(i))\n",
    "    elif ord(i)==32:\n",
    "         s1=s1+'$'\n",
    "    else :\n",
    "         s1=s1+i\n",
    "        \n",
    "print(s1)"
   ]
  },
  {
   "cell_type": "code",
   "execution_count": null,
   "id": "b402186c-03e2-4593-8c4a-772d584192a1",
   "metadata": {},
   "outputs": [],
   "source": []
  }
 ],
 "metadata": {
  "kernelspec": {
   "display_name": "Python 3 (ipykernel)",
   "language": "python",
   "name": "python3"
  },
  "language_info": {
   "codemirror_mode": {
    "name": "ipython",
    "version": 3
   },
   "file_extension": ".py",
   "mimetype": "text/x-python",
   "name": "python",
   "nbconvert_exporter": "python",
   "pygments_lexer": "ipython3",
   "version": "3.10.8"
  }
 },
 "nbformat": 4,
 "nbformat_minor": 5
}
