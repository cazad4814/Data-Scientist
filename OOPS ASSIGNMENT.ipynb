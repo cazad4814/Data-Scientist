{
 "cells": [
  {
   "cell_type": "code",
   "execution_count": 1,
   "id": "e7a81251-3689-4564-bda2-9b9e2a2dd6a1",
   "metadata": {},
   "outputs": [],
   "source": [
    "# Q1. Explain Class and Object with respect to Object-Oriented Programming. Give a suitable example."
   ]
  },
  {
   "cell_type": "code",
   "execution_count": 2,
   "id": "9c640020-2808-4606-b1a2-e8e54f3f03e9",
   "metadata": {},
   "outputs": [],
   "source": [
    "# Ans: Class is a classification of real world entity or blueprint of object.\n",
    "#      and object is instance of class.\n",
    "    \n",
    "#    example: If we are going to make a building, So, First we should have to make a blueprint or design of building. How the house look like and many more.  "
   ]
  },
  {
   "cell_type": "code",
   "execution_count": 3,
   "id": "bdd0f409-31b5-40b3-a62c-1a22cf1b8ace",
   "metadata": {},
   "outputs": [],
   "source": [
    "# Q2. Name the four pillars of OOPs."
   ]
  },
  {
   "cell_type": "code",
   "execution_count": 4,
   "id": "269d18ee-d2bb-48b8-8dec-2bc638785331",
   "metadata": {},
   "outputs": [],
   "source": [
    "# OOPs have four pillars.\n",
    "# 1. Polymorphism \n",
    "# 2. Abstraction \n",
    "# 3. Encapsulation\n",
    "# 4. Inheritance "
   ]
  },
  {
   "cell_type": "code",
   "execution_count": 5,
   "id": "b8c769e4-07f0-4609-85ca-5ab85cb40b9a",
   "metadata": {},
   "outputs": [],
   "source": [
    "# Q3. Explain why the __init__() function is used. Give a suitable example."
   ]
  },
  {
   "cell_type": "code",
   "execution_count": 6,
   "id": "87b955bc-8980-49d3-a9de-75e447dc9c90",
   "metadata": {},
   "outputs": [],
   "source": [
    "# __init__() is a constructor in python to used to initializing the object’s state."
   ]
  },
  {
   "cell_type": "code",
   "execution_count": 1,
   "id": "31601692-1b21-4141-9b3e-000a8cf7448e",
   "metadata": {},
   "outputs": [],
   "source": [
    "class Person:\n",
    "    def __init__(self,name):\n",
    "        self.name=name\n",
    "    def say_hi(self):\n",
    "        return \"Hello,  My Name is \"+self.name\n"
   ]
  },
  {
   "cell_type": "code",
   "execution_count": 3,
   "id": "873a8e41-fa34-46c4-baf3-84574a8b8c33",
   "metadata": {},
   "outputs": [],
   "source": [
    "Chandan=Person(\"Chandan Azad\")"
   ]
  },
  {
   "cell_type": "code",
   "execution_count": 4,
   "id": "bea25fc2-2de7-4e9f-968e-0f5362f531e5",
   "metadata": {},
   "outputs": [
    {
     "data": {
      "text/plain": [
       "'Hello,  My Name is Chandan Azad'"
      ]
     },
     "execution_count": 4,
     "metadata": {},
     "output_type": "execute_result"
    }
   ],
   "source": [
    "Chandan.say_hi()"
   ]
  },
  {
   "cell_type": "code",
   "execution_count": 5,
   "id": "81c94350-0251-4f98-844d-86f13dc43add",
   "metadata": {},
   "outputs": [],
   "source": [
    "# Q4. Why self is used in OOPs?"
   ]
  },
  {
   "cell_type": "code",
   "execution_count": 6,
   "id": "6571df45-a202-4b6c-936c-ddeaa655d5cd",
   "metadata": {},
   "outputs": [],
   "source": [
    "# Ans: self is used like a pointer in python. Self allow to access attributes and methods of each object. This allows to each object have own methos and attributes.  "
   ]
  },
  {
   "cell_type": "code",
   "execution_count": 7,
   "id": "1802b273-ce37-4060-8464-11f3272c4208",
   "metadata": {},
   "outputs": [],
   "source": [
    "# Q5. What is inheritance? Give an example for each type of inheritance."
   ]
  },
  {
   "cell_type": "code",
   "execution_count": 29,
   "id": "4d865c07-48e8-406e-ace7-d3268f503762",
   "metadata": {},
   "outputs": [
    {
     "name": "stdout",
     "output_type": "stream",
     "text": [
      "Child class function\n",
      "Parent class function\n",
      "Father : RAM\n",
      "Mother : SITA\n",
      "GrandFather : Ramesh\n",
      "Father : Mohan\n",
      "Son1's Father Name: RAM\n",
      "Son2's Father Name: Mohan\n",
      "This function is in school.\n",
      "This function is in student 1. \n"
     ]
    }
   ],
   "source": [
    "# Ans: Inheritance is a mechanism to acquire all properties and behaviors of a class by another class.\n",
    "# There are following inheritances present in python.\n",
    "# 1.Single Inheritance.\n",
    "class Parent :\n",
    "    def fun1(self):\n",
    "        print(\"Parent class function\")\n",
    "            \n",
    "class Child(Parent) :\n",
    "    def fun2(self):\n",
    "        print(\"Child class function\")\n",
    "        \n",
    "object = Child()     \n",
    "object.fun2()\n",
    "object.fun1()\n",
    "        \n",
    "# 2.Multiple Inheritance.\n",
    "\n",
    "class Mother:\n",
    "\tmothername = \"\"\n",
    "\n",
    "\tdef mother(self):\n",
    "\t\tprint(self.mothername)\n",
    "\n",
    "class Father:\n",
    "\tfathername = \"\"\n",
    "\n",
    "\tdef father(self):\n",
    "\t\tprint(self.fathername)\n",
    "\n",
    "class Son(Mother, Father):\n",
    "\tdef parents(self):\n",
    "\t\tprint(\"Father :\", self.fathername)\n",
    "\t\tprint(\"Mother :\", self.mothername)\n",
    "s1 = Son()\n",
    "s1.fathername = \"RAM\"\n",
    "s1.mothername = \"SITA\"\n",
    "s1.parents()\n",
    "\n",
    "\n",
    "# 3.Multilevel Inheritance.\n",
    "\n",
    "\n",
    "class GrandFather:\n",
    "\tgrandFather = \"\"\n",
    "\n",
    "\tdef grandFather(self):\n",
    "\t\tprint(self.grandFather)\n",
    "\n",
    "class Father(GrandFather):\n",
    "\tfather = \"\"\n",
    "\n",
    "\tdef father(self):\n",
    "\t\tprint(self.father)\n",
    "\n",
    "class Son(Father):\n",
    "\tdef son(self):\n",
    "\t\tprint(\"GrandFather :\", self.grandFather)\n",
    "\t\tprint(\"Father :\", self.father)\n",
    "s1 = Son()\n",
    "s1.grandFather = \"Ramesh\"\n",
    "s1.father = \"Mohan\"\n",
    "s1.son()\n",
    "\n",
    "\n",
    "# 4.Hierarchical Inheritance.\n",
    "\n",
    "class Father:\n",
    "\tfathername = \"\"\n",
    "\n",
    "\tdef father(self):\n",
    "\t\tprint(self.fathername)\n",
    "\n",
    "class Child1(Father):\n",
    "\tdef parent(self):\n",
    "\t\tprint(\"Son1's Father Name:\", self.fathername)\n",
    "\n",
    "class Child2(Father):\n",
    "\tdef parent(self):\n",
    "\t\tprint(\"Son2's Father Name:\", self.fathername)\n",
    "      \n",
    "        \n",
    "s1 = Child1()\n",
    "s1.fathername = \"RAM\"\n",
    "s2 = Child2()\n",
    "s2.fathername=\"Mohan\"\n",
    "s1.parent()\n",
    "s2.parent()\n",
    "\n",
    "# 5.Hybrid Inheritance.\n",
    "\n",
    "# Python program to demonstrate\n",
    "# hybrid inheritance\n",
    "\n",
    "\n",
    "class School:\n",
    "\tdef func1(self):\n",
    "\t\tprint(\"This function is in school.\")\n",
    "\n",
    "\n",
    "class Student1(School):\n",
    "\tdef func2(self):\n",
    "\t\tprint(\"This function is in student 1. \")\n",
    "\n",
    "\n",
    "class Student2(School):\n",
    "\tdef func3(self):\n",
    "\t\tprint(\"This function is in student 2.\")\n",
    "\n",
    "\n",
    "class Student3(Student1, School):\n",
    "\tdef func4(self):\n",
    "\t\tprint(\"This function is in student 3.\")\n",
    "\n",
    "\n",
    "object = Student3()\n",
    "object.func1()\n",
    "object.func2()\n"
   ]
  },
  {
   "cell_type": "code",
   "execution_count": null,
   "id": "e40a9e97-4ba9-40a1-adf1-2fd070098045",
   "metadata": {},
   "outputs": [],
   "source": []
  },
  {
   "cell_type": "code",
   "execution_count": null,
   "id": "cb1c0e79-4425-4004-9356-b03f10916440",
   "metadata": {},
   "outputs": [],
   "source": []
  }
 ],
 "metadata": {
  "kernelspec": {
   "display_name": "Python 3 (ipykernel)",
   "language": "python",
   "name": "python3"
  },
  "language_info": {
   "codemirror_mode": {
    "name": "ipython",
    "version": 3
   },
   "file_extension": ".py",
   "mimetype": "text/x-python",
   "name": "python",
   "nbconvert_exporter": "python",
   "pygments_lexer": "ipython3",
   "version": "3.10.8"
  }
 },
 "nbformat": 4,
 "nbformat_minor": 5
}
