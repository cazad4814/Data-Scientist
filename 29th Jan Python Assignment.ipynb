{
 "cells": [
  {
   "cell_type": "code",
   "execution_count": 1,
   "id": "404e1851-6d2c-4b0d-b746-31d754e18347",
   "metadata": {},
   "outputs": [],
   "source": [
    "# 1. Who developed Python Programming Language?\n",
    "# Ans: Guido van Rossum"
   ]
  },
  {
   "cell_type": "code",
   "execution_count": 2,
   "id": "ff0cd89c-4cca-40df-ae68-c88637cfb8e5",
   "metadata": {},
   "outputs": [],
   "source": [
    "# 2. Which type of Programming does Python Suport ?\n",
    "# Ans: Object-oriented programming and structured programming python support"
   ]
  },
  {
   "cell_type": "code",
   "execution_count": 3,
   "id": "d00ffed9-baab-4bb8-8dc2-b2307a1ec8a4",
   "metadata": {},
   "outputs": [],
   "source": [
    "# 3. IS Python case sensitive when dealing with identifiers ?\n",
    "# Ans: Yes "
   ]
  },
  {
   "cell_type": "code",
   "execution_count": 4,
   "id": "07736deb-19c7-4db7-abbf-e1529d30b412",
   "metadata": {},
   "outputs": [],
   "source": [
    "# 4. What is the correct extension of the Python file ?\n",
    "# Ans: .py,.pyi"
   ]
  },
  {
   "cell_type": "code",
   "execution_count": 5,
   "id": "b51f540e-bf4e-485a-badc-ab47061d6240",
   "metadata": {},
   "outputs": [],
   "source": [
    "# 5. Is Python code compiled or Interpreted ?\n",
    "# Ans: Python is an interpreted language."
   ]
  },
  {
   "cell_type": "code",
   "execution_count": 6,
   "id": "e18d62de-7689-41d8-b98b-10b23d7c03ca",
   "metadata": {},
   "outputs": [],
   "source": [
    "# 6. Name a few blocks of code used to define in python Language? \n",
    "# Ans: a module, a function body, and a class definition. "
   ]
  },
  {
   "cell_type": "code",
   "execution_count": 7,
   "id": "0fb3612f-1c93-4d57-abdc-36836b936dce",
   "metadata": {},
   "outputs": [],
   "source": [
    "# 7. State a character used to give single-line comment in python?\n",
    "# Ans: single # character"
   ]
  },
  {
   "cell_type": "code",
   "execution_count": 11,
   "id": "5f6146b4-8a57-4495-8cc1-1a7a1ff1908b",
   "metadata": {},
   "outputs": [],
   "source": [
    "# 8. Mention function which can help use to find version of Python that we are currently orking on?\n",
    "# Ans: sys. version\n"
   ]
  },
  {
   "cell_type": "code",
   "execution_count": 12,
   "id": "1070f178-bd1f-4e8d-a70a-0d4b1f2ecdaf",
   "metadata": {},
   "outputs": [],
   "source": [
    "# 9. Python supports the creation of anonymous function at runtime, using a construct called\n",
    "# --- lambda"
   ]
  },
  {
   "cell_type": "code",
   "execution_count": 13,
   "id": "a50fa40a-abef-4922-9b4e-22a90cbb70e8",
   "metadata": {},
   "outputs": [],
   "source": [
    "# 10. What does pip stand for python?\n",
    "# Ans: Preferred Installer Program"
   ]
  },
  {
   "cell_type": "code",
   "execution_count": 15,
   "id": "7ce466fc-6adb-4f83-be44-90b8dbeb767c",
   "metadata": {},
   "outputs": [],
   "source": [
    "# 11.Mention a few built-in functions in python?\n",
    "# Ans: print(), type(), input(),max(),len(),pow(),abs(),sorted()  etc"
   ]
  },
  {
   "cell_type": "code",
   "execution_count": 16,
   "id": "a5f195fe-26c3-4b93-a18a-0a153e5266b9",
   "metadata": {},
   "outputs": [],
   "source": [
    "# 12. What is the maximum possible length of an identifier in Python?\n",
    "# Ans: 79 characters"
   ]
  },
  {
   "cell_type": "code",
   "execution_count": 17,
   "id": "c694f8ef-12a4-42ed-b4fe-1859c67ad396",
   "metadata": {},
   "outputs": [],
   "source": [
    "# 13. What are the benefits of using Python?\n",
    "# Ans: Python is most propular language now a days. It is used in diffent field.\n",
    "# Like Data science, Web Developemnt, Finance and Trading, Computer Graphics, Basic gaming etc"
   ]
  },
  {
   "cell_type": "code",
   "execution_count": 19,
   "id": "d8c817d2-f113-47da-b37a-b50b824c9c23",
   "metadata": {},
   "outputs": [],
   "source": [
    "# 14. How is memory managed in Python ?\n",
    "# Ans: Memory Management of this private heap is ensured internally by the python memory."
   ]
  },
  {
   "cell_type": "code",
   "execution_count": null,
   "id": "2623f52a-df67-481b-9a64-c551ce7525b2",
   "metadata": {},
   "outputs": [],
   "source": [
    "15. How to install Python on windos are set path variables .\n",
    "ANS: \n",
    "    \n",
    "# Right-clicking This PC and going to Properties.\n",
    "\n",
    "# Clicking on the Advanced system settings in the menu on the left.\n",
    "\n",
    "# Clicking on the Environment Variables button on the bottom right.\n",
    "\n",
    "# In the System variables section, selecting the Path variable and clicking on Edit. The next screen will show all the directories that are currently a part of the PATH variable.\n",
    "\n",
    "# Clicking on New and entering Python’s install directory."
   ]
  }
 ],
 "metadata": {
  "kernelspec": {
   "display_name": "Python 3 (ipykernel)",
   "language": "python",
   "name": "python3"
  },
  "language_info": {
   "codemirror_mode": {
    "name": "ipython",
    "version": 3
   },
   "file_extension": ".py",
   "mimetype": "text/x-python",
   "name": "python",
   "nbconvert_exporter": "python",
   "pygments_lexer": "ipython3",
   "version": "3.10.8"
  }
 },
 "nbformat": 4,
 "nbformat_minor": 5
}
