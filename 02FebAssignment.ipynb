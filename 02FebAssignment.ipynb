{
 "cells": [
  {
   "cell_type": "code",
   "execution_count": 1,
   "id": "1bc76a0e-716d-4e0f-9542-47cfee70245d",
   "metadata": {},
   "outputs": [],
   "source": [
    "# Q1. Explain with an example each when to use a for loop and a while loop.\n"
   ]
  },
  {
   "cell_type": "code",
   "execution_count": 22,
   "id": "a8c7e411-4b2c-4bc7-a450-da826a5526fc",
   "metadata": {},
   "outputs": [
    {
     "name": "stdout",
     "output_type": "stream",
     "text": [
      "[5, 3, 2, 1]\n"
     ]
    }
   ],
   "source": [
    "# Ans: for loop: The for loop used when the know the number of iterations. \n",
    "# example: Finding Reverse of list\n",
    "l = [1,2,3,5]\n",
    "l1=[]\n",
    "for i in range(0,len(l)) :\n",
    "    l1.append(l[len(l)-1-i])\n",
    "print(l1)"
   ]
  },
  {
   "cell_type": "code",
   "execution_count": 19,
   "id": "d0595b82-fbfa-4145-aabd-edbe2733fa29",
   "metadata": {},
   "outputs": [
    {
     "name": "stdout",
     "output_type": "stream",
     "text": [
      "Reverse of a number : 985241\n"
     ]
    }
   ],
   "source": [
    "# while loop: If we don't have any pre information for the number of iterations.\n",
    "# example  - Finding Reverse of number\n",
    "num = 142589\n",
    "temp=0\n",
    "while num != 0:\n",
    "    reminder=num % 10\n",
    "    temp = temp*10 + reminder\n",
    "    num=num//10\n",
    "print('Reverse of a number : '+str( temp ))"
   ]
  },
  {
   "cell_type": "code",
   "execution_count": 24,
   "id": "a9698766-c5a2-430f-b621-b28f5ab2c999",
   "metadata": {},
   "outputs": [],
   "source": [
    "# Q2. Write a python program to print the sum and product of the first 10 natural numbers using for and while loop."
   ]
  },
  {
   "cell_type": "code",
   "execution_count": 31,
   "id": "6e6dd534-b4bc-4c1e-9fd4-78e5ede279cd",
   "metadata": {},
   "outputs": [
    {
     "name": "stdout",
     "output_type": "stream",
     "text": [
      "Sum : 55\n",
      "Product : 3628800\n"
     ]
    }
   ],
   "source": [
    "# For loop : \n",
    "sum=0\n",
    "product=1;\n",
    "for i in range(1,11):\n",
    "    sum+=i\n",
    "    product*=i\n",
    "print(\"Sum : \"+ str(sum))\n",
    "print(\"Product : \" +str(product))"
   ]
  },
  {
   "cell_type": "code",
   "execution_count": 41,
   "id": "57edc22d-7ef8-4a42-9069-8f68810ac95c",
   "metadata": {},
   "outputs": [
    {
     "name": "stdout",
     "output_type": "stream",
     "text": [
      "Sum : 55\n",
      "Product : 3628800\n"
     ]
    }
   ],
   "source": [
    "# while loop\n",
    "sum = 0\n",
    "product = 1 \n",
    "num = 10\n",
    "while num>0:\n",
    "    sum+=num\n",
    "    product*=num\n",
    "    num=num-1\n",
    "print(\"Sum : \"+ str(sum))\n",
    "print(\"Product : \" +str(product))"
   ]
  },
  {
   "cell_type": "code",
   "execution_count": 43,
   "id": "3886d1bd-08ea-4102-99f1-b961dca64d98",
   "metadata": {},
   "outputs": [],
   "source": [
    "#  Q3. Create a python program to compute the electricity bill for a household.\n",
    "# The per-unit charges in rupees are as follows: For the first 100 units, the user will be charged Rs. 4.5 per\n",
    "# unit, for the next 100 units, the user will be charged Rs. 6 per unit, and for the next 100 units, the user will\n",
    "# be charged Rs. 10 per unit, After 300 units and above the user will be charged Rs. 20 per unit.\n",
    "# You are required to take the units of electricity consumed in a month from the user as input.\n",
    "# Your program must pass this test case: when the unit of electricity consumed by the user in a month is\n",
    "# 310, the total electricity bill should be 2250."
   ]
  },
  {
   "cell_type": "code",
   "execution_count": 9,
   "id": "93f91283-da5c-48d2-9d32-bffffc5b04af",
   "metadata": {},
   "outputs": [
    {
     "name": "stdin",
     "output_type": "stream",
     "text": [
      " 1\n"
     ]
    },
    {
     "name": "stdout",
     "output_type": "stream",
     "text": [
      "The total electricity bill ill be : 4.5\n"
     ]
    }
   ],
   "source": [
    "units = int(input())\n",
    "total=1\n",
    "if units <= 100 :\n",
    "    total=units*4.5\n",
    "elif units <= 200 and units > 100 :\n",
    "    total=+(450+(units-100) * 6)\n",
    "elif units <= 300 and units >  200 :\n",
    "    total=+(100 * 4.5 +100 * 6 +(units-200) * 10)\n",
    "else:\n",
    "    total=+(100 * 4.5 +100 * 6+100 * 10 +(units-300) * 20)   \n",
    "    \n",
    "print('The total electricity bill ill be : ' + str(total))\n"
   ]
  },
  {
   "cell_type": "code",
   "execution_count": 11,
   "id": "ee55d761-ba08-48d2-9aa9-aa202888f207",
   "metadata": {},
   "outputs": [],
   "source": [
    "# Q4. Create a list of numbers from 1 to 100. Use for loop and while loop to calculate the cube of each\n",
    "# number and if the cube of that number is divisible by 4 or 5 then append that number in a list and print\n",
    "# that list."
   ]
  },
  {
   "cell_type": "code",
   "execution_count": 13,
   "id": "b37128a9-6583-4d48-b4c9-3e467c36fce4",
   "metadata": {},
   "outputs": [
    {
     "name": "stdout",
     "output_type": "stream",
     "text": [
      "[2, 4, 5, 6, 8, 10, 12, 14, 15, 16, 18, 20, 22, 24, 25, 26, 28, 30, 32, 34, 35, 36, 38, 40, 42, 44, 45, 46, 48, 50, 52, 54, 55, 56, 58, 60, 62, 64, 65, 66, 68, 70, 72, 74, 75, 76, 78, 80, 82, 84, 85, 86, 88, 90, 92, 94, 95, 96, 98]\n"
     ]
    }
   ],
   "source": [
    "l=[]\n",
    "for i in range(1,100):\n",
    "    temp=i*i*i\n",
    "    if(temp % 4 == 0 or temp % 5 == 0):\n",
    "        l.append(i)\n",
    "print(l)"
   ]
  },
  {
   "cell_type": "code",
   "execution_count": 14,
   "id": "14ebc4b3-e02c-4136-84f7-9eaf5e3343b2",
   "metadata": {},
   "outputs": [],
   "source": [
    "# Q5. Write a program to filter count vowels in the below-given string.\n",
    "# string = \"I want to become a data scientist\""
   ]
  },
  {
   "cell_type": "code",
   "execution_count": 24,
   "id": "ff67b5ef-19e9-4115-a475-7e7af3663e46",
   "metadata": {},
   "outputs": [
    {
     "name": "stdout",
     "output_type": "stream",
     "text": [
      "2\n"
     ]
    }
   ],
   "source": [
    "# s = \"I want to become a data scientist\"\n",
    "s='apple'\n",
    "c=0\n",
    "for i in range(0,len(s)):\n",
    "    if(s[i].lower() in 'aeiou'):\n",
    "        c=c+1\n",
    "print(str(c))"
   ]
  },
  {
   "cell_type": "code",
   "execution_count": null,
   "id": "5dcf3e15-9234-469c-862e-920d8dda2cca",
   "metadata": {},
   "outputs": [],
   "source": []
  }
 ],
 "metadata": {
  "kernelspec": {
   "display_name": "Python 3 (ipykernel)",
   "language": "python",
   "name": "python3"
  },
  "language_info": {
   "codemirror_mode": {
    "name": "ipython",
    "version": 3
   },
   "file_extension": ".py",
   "mimetype": "text/x-python",
   "name": "python",
   "nbconvert_exporter": "python",
   "pygments_lexer": "ipython3",
   "version": "3.10.8"
  }
 },
 "nbformat": 4,
 "nbformat_minor": 5
}
