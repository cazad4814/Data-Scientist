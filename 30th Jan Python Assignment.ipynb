{
 "cells": [
  {
   "cell_type": "code",
   "execution_count": 4,
   "id": "614aadd8-6828-4e8d-b755-783a375452f2",
   "metadata": {},
   "outputs": [
    {
     "name": "stdin",
     "output_type": "stream",
     "text": [
      "Enter the percentage:  80\n"
     ]
    },
    {
     "name": "stdout",
     "output_type": "stream",
     "text": [
      "Grade : C\n"
     ]
    }
   ],
   "source": [
    "# 1. Disply grade \n",
    "num = int(input(\"Enter the percentage: \"))\n",
    "if num>90:\n",
    "    print('Grade : A')\n",
    "elif num>80 and num<=90:\n",
    "    print('Grade : B')\n",
    "elif num>=60 and num<=80:\n",
    "    print('Grade : C')\n",
    "else : print('Grade : D')\n"
   ]
  },
  {
   "cell_type": "code",
   "execution_count": 7,
   "id": "39db416a-48fb-494a-a4fc-b95c50e1d9fd",
   "metadata": {},
   "outputs": [
    {
     "name": "stdin",
     "output_type": "stream",
     "text": [
      "Enter the Cost Price of a Bike :  110000\n"
     ]
    },
    {
     "name": "stdout",
     "output_type": "stream",
     "text": [
      "Tax: 15%\n"
     ]
    }
   ],
   "source": [
    "# 2. Road Tax\n",
    "num = int(input(\"Enter the Cost Price of a Bike : \"))\n",
    "if num>100000:\n",
    "    print('Tax: 15%')\n",
    "elif num>50000 and num<=100000:\n",
    "    print('Tax: 10%')\n",
    "else :  print('Tax: 5%')\n"
   ]
  },
  {
   "cell_type": "code",
   "execution_count": 11,
   "id": "fc6a135a-45df-475e-bcbc-d3c8628db97d",
   "metadata": {},
   "outputs": [
    {
     "name": "stdin",
     "output_type": "stream",
     "text": [
      "Enter the City Name :  Jaipur\n"
     ]
    },
    {
     "name": "stdout",
     "output_type": "stream",
     "text": [
      "Jal Mahal\n"
     ]
    }
   ],
   "source": [
    "# 3. Monuments of the city\n",
    "city_Name = input(\"Enter the City Name : \")\n",
    "if city_Name=='Delhi':\n",
    "    print('Red Fort')\n",
    "elif city_Name=='Agra':\n",
    "    print('Taj Mahal')\n",
    "elif city_Name=='Jaipur':\n",
    "    print('Jal Mahal')\n"
   ]
  },
  {
   "cell_type": "code",
   "execution_count": 15,
   "id": "95fe42f3-9407-4956-8d49-755d9a8717c4",
   "metadata": {},
   "outputs": [
    {
     "name": "stdin",
     "output_type": "stream",
     "text": [
      "Enter the Number :  30\n"
     ]
    },
    {
     "name": "stdout",
     "output_type": "stream",
     "text": [
      "1\n"
     ]
    }
   ],
   "source": [
    "# 4. Check ho many times a given number can be divided by 3 before it is less than or equal to 10.\n",
    "\n",
    "num = int(input(\"Enter the Number : \"))\n",
    "count = 0\n",
    "while num>10:\n",
    "    num = num//3\n",
    "    count += 1\n",
    "print(count)"
   ]
  },
  {
   "cell_type": "code",
   "execution_count": 16,
   "id": "23e5fa46-b263-40ff-80ff-0bf5f4702f64",
   "metadata": {},
   "outputs": [],
   "source": [
    "# # 5. Why and when to use while loop in python give a details description with example.\n",
    "# Ans: While loop is use to repeate specifc block an unkown number of times. When we don't know the number of iteration. e use While loop"
   ]
  },
  {
   "cell_type": "code",
   "execution_count": 7,
   "id": "3d8f4bc3-c337-40f9-b2df-4cabff9912d0",
   "metadata": {},
   "outputs": [
    {
     "name": "stdout",
     "output_type": "stream",
     "text": [
      "\n",
      "* \n",
      "* * \n",
      "* * * \n",
      "* * * * \n",
      "* * * * * \n",
      "* * * * * * \n",
      "* * * * * * * \n",
      "* * * * * * * * \n",
      "* * * * * * * * * \n"
     ]
    }
   ],
   "source": [
    "# 6. 3 different pattern.\n",
    "i=0\n",
    "while i<10:\n",
    "    j=0\n",
    "    while j<i:\n",
    "        print(\"*\",end=\" \")\n",
    "        j=j+1\n",
    "    print(\"\")\n",
    "    i=i+1\n"
   ]
  },
  {
   "cell_type": "code",
   "execution_count": 21,
   "id": "30e9e711-14e3-4df2-a780-5761cf321ef8",
   "metadata": {},
   "outputs": [
    {
     "name": "stdout",
     "output_type": "stream",
     "text": [
      "* * * * * * * * * * \n",
      "* * * * * * * * * \n",
      "* * * * * * * * \n",
      "* * * * * * * \n",
      "* * * * * * \n",
      "* * * * * \n",
      "* * * * \n",
      "* * * \n",
      "* * \n",
      "* \n"
     ]
    }
   ],
   "source": [
    "i=0\n",
    "while i<10:\n",
    "    j=0\n",
    "    while j<10-i:\n",
    "        print('*',end=\" \")\n",
    "        j=j+1\n",
    "        \n",
    "    print(\"\")\n",
    "    i=i+1 \n",
    "    "
   ]
  },
  {
   "cell_type": "code",
   "execution_count": 22,
   "id": "bd63d62e-558e-439e-911c-1185d66bec0e",
   "metadata": {},
   "outputs": [
    {
     "name": "stdout",
     "output_type": "stream",
     "text": [
      "          \n",
      "         * \n",
      "        * * \n",
      "       * * * \n",
      "      * * * * \n",
      "     * * * * * \n",
      "    * * * * * * \n",
      "   * * * * * * * \n",
      "  * * * * * * * * \n",
      " * * * * * * * * * \n"
     ]
    }
   ],
   "source": [
    "i=0\n",
    "while i<10:\n",
    "    j=0\n",
    "    while j<10-i:\n",
    "        print(end=\" \")\n",
    "        j=j+1\n",
    "    j1=0\n",
    "    while j1<i:\n",
    "        print(\"*\",end=\" \")\n",
    "        j1=j1+1\n",
    "        \n",
    "    print(\"\")\n",
    "    i=i+1 \n",
    "    "
   ]
  },
  {
   "cell_type": "code",
   "execution_count": 26,
   "id": "2d9d3638-007d-42d3-827c-bfb2d97ae902",
   "metadata": {},
   "outputs": [
    {
     "name": "stdout",
     "output_type": "stream",
     "text": [
      "10 9 8 7 6 5 4 3 2 1 "
     ]
    }
   ],
   "source": [
    "# 7. Reverse a while loop to display numbrers from 10 to 1\n",
    "i=10\n",
    "while i>0:\n",
    "    print(i,end=\" \")\n",
    "    i=i-1\n"
   ]
  },
  {
   "cell_type": "code",
   "execution_count": null,
   "id": "c767959a-6eb1-4c1c-a85e-f085069e1cab",
   "metadata": {},
   "outputs": [],
   "source": []
  }
 ],
 "metadata": {
  "kernelspec": {
   "display_name": "Python 3 (ipykernel)",
   "language": "python",
   "name": "python3"
  },
  "language_info": {
   "codemirror_mode": {
    "name": "ipython",
    "version": 3
   },
   "file_extension": ".py",
   "mimetype": "text/x-python",
   "name": "python",
   "nbconvert_exporter": "python",
   "pygments_lexer": "ipython3",
   "version": "3.10.8"
  }
 },
 "nbformat": 4,
 "nbformat_minor": 5
}
