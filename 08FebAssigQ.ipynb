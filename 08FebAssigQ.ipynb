{
 "cells": [
  {
   "cell_type": "code",
   "execution_count": 1,
   "id": "683cd890-9161-4561-a7f2-d84515e9cc61",
   "metadata": {},
   "outputs": [],
   "source": [
    "# Q1. What is Abstraction in OOps? Explain with an example."
   ]
  },
  {
   "cell_type": "code",
   "execution_count": 2,
   "id": "43bdc0e7-206e-4883-a2d2-45d550382689",
   "metadata": {},
   "outputs": [],
   "source": [
    "# Ans: Abstraction is a process to hide internal impementation from user and show what is necessary. \n",
    "# example - If we need to start the car by pressing button, we don't know the internal mechanism of car. \n",
    "# Internal mechinsm  and complex logic is completely hidden from the user.  \n"
   ]
  },
  {
   "cell_type": "code",
   "execution_count": 3,
   "id": "a857bf6b-e060-4ad9-a888-7ff4c1229af2",
   "metadata": {},
   "outputs": [],
   "source": [
    "# Q2. Differentiate between Abstraction and Encapsulation. Explain with an example."
   ]
  },
  {
   "cell_type": "code",
   "execution_count": 4,
   "id": "b7ca4817-1971-4556-8d07-1f64de89af0c",
   "metadata": {},
   "outputs": [],
   "source": [
    "# 1. Abstraction: Astraction is a process to hide internal impementation from user and show what is necessary.\n",
    "#      Abstraction focus on what the object does instead of how it does. \n",
    "#      It provides generalized view of classes.\n",
    "# 2. Encapsulation: Wrapping code and data together in a single unit. \n",
    "#            Class is an example of encapsulation, because it wraps the method and property."
   ]
  },
  {
   "cell_type": "code",
   "execution_count": 5,
   "id": "9769353f-c814-4049-83df-ba9ad5237ac6",
   "metadata": {},
   "outputs": [],
   "source": [
    "# What is abc module in python? Why is it used?"
   ]
  },
  {
   "cell_type": "code",
   "execution_count": 6,
   "id": "01d9a184-d8d1-476f-be74-5c343d978044",
   "metadata": {},
   "outputs": [],
   "source": [
    "# Ans:  abc module in the python libarary provides the infrastructure for defining custom  abstract base class.\n",
    "#       abc module is to describe abstract units of behaviors that can be shared by multiple classes"
   ]
  },
  {
   "cell_type": "code",
   "execution_count": 7,
   "id": "687679f6-3227-4409-acd8-128f37f96b53",
   "metadata": {},
   "outputs": [],
   "source": [
    "# Q4. How can we achieve data abstraction?"
   ]
  },
  {
   "cell_type": "code",
   "execution_count": 8,
   "id": "fdcb1018-1896-446f-8cbc-5f601e5dd4f4",
   "metadata": {},
   "outputs": [],
   "source": [
    " # Ans: Partial abstraction is achieved by having implementations with concrete methods. \n",
    " #    And Full abstraction is achieved using interfaces with abstract types that specify a class."
   ]
  },
  {
   "cell_type": "code",
   "execution_count": null,
   "id": "189e2fb4-288b-4ed8-95bc-d03451bfb511",
   "metadata": {},
   "outputs": [],
   "source": []
  }
 ],
 "metadata": {
  "kernelspec": {
   "display_name": "Python 3 (ipykernel)",
   "language": "python",
   "name": "python3"
  },
  "language_info": {
   "codemirror_mode": {
    "name": "ipython",
    "version": 3
   },
   "file_extension": ".py",
   "mimetype": "text/x-python",
   "name": "python",
   "nbconvert_exporter": "python",
   "pygments_lexer": "ipython3",
   "version": "3.10.8"
  }
 },
 "nbformat": 4,
 "nbformat_minor": 5
}
