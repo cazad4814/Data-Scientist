{
 "cells": [
  {
   "cell_type": "code",
   "execution_count": 1,
   "id": "70985f93-3770-441b-94fc-19e9b1c63489",
   "metadata": {},
   "outputs": [],
   "source": [
    "# 1. What is an Exception in python? Write the difference between Exception and Syntax errors."
   ]
  },
  {
   "cell_type": "code",
   "execution_count": 2,
   "id": "51686395-4349-4840-82b8-b364861dcea5",
   "metadata": {},
   "outputs": [],
   "source": [
    "# Ans--\n",
    "# Exception is an event, which occurs during the execution of program that distrub the normal flow of program's instruction\n",
    "# A Syntax error is an issue in a program the prevents the program from completing its task.\n",
    "# And an exception ia a condition that interrupt the normal flow of program."
   ]
  },
  {
   "cell_type": "code",
   "execution_count": 4,
   "id": "dc05c9b2-2c15-49e2-988c-ecdba2bb30fe",
   "metadata": {},
   "outputs": [
    {
     "ename": "ZeroDivisionError",
     "evalue": "division by zero",
     "output_type": "error",
     "traceback": [
      "\u001b[0;31m---------------------------------------------------------------------------\u001b[0m",
      "\u001b[0;31mZeroDivisionError\u001b[0m                         Traceback (most recent call last)",
      "Cell \u001b[0;32mIn[4], line 7\u001b[0m\n\u001b[1;32m      1\u001b[0m \u001b[38;5;66;03m# 2. What happen when an Exception is not handleed? Explain with an example.\u001b[39;00m\n\u001b[1;32m      2\u001b[0m \u001b[38;5;66;03m# Ans \u001b[39;00m\n\u001b[1;32m      3\u001b[0m \n\u001b[1;32m      4\u001b[0m \u001b[38;5;66;03m# If Exception is not handled then, after generating Exception compiler stop to execute the further code.\u001b[39;00m\n\u001b[1;32m      5\u001b[0m \u001b[38;5;66;03m# example-- \u001b[39;00m\n\u001b[0;32m----> 7\u001b[0m t \u001b[38;5;241m=\u001b[39m \u001b[38;5;241;43m10\u001b[39;49m\u001b[38;5;241;43m/\u001b[39;49m\u001b[38;5;241;43m0\u001b[39;49m\n\u001b[1;32m      8\u001b[0m \u001b[38;5;28mprint\u001b[39m(\u001b[38;5;124m\"\u001b[39m\u001b[38;5;124mThis is my first message|\u001b[39m\u001b[38;5;124m\"\u001b[39m)\n",
      "\u001b[0;31mZeroDivisionError\u001b[0m: division by zero"
     ]
    }
   ],
   "source": [
    "# 2. What happen when an Exception is not handleed? Explain with an example.\n",
    "# Ans \n",
    "\n",
    "# If Exception is not handled then, after generating Exception compiler stop to execute the further code.\n",
    "# example-- \n",
    "\n",
    "t = 10/0\n",
    "print(\"This is my first message|\")\n"
   ]
  },
  {
   "cell_type": "code",
   "execution_count": 6,
   "id": "37037d12-7168-413c-a57d-d984aa2a7612",
   "metadata": {},
   "outputs": [
    {
     "name": "stdout",
     "output_type": "stream",
     "text": [
      "ZeroDivisionError handled  division by zero\n",
      "This is my first message|\n"
     ]
    }
   ],
   "source": [
    "\n",
    "try :\n",
    "    t = 10/0\n",
    "except ZeroDivisionError as e:\n",
    "    print(\"ZeroDivisionError handled \",e)\n",
    "print(\"This is my first message|\")"
   ]
  },
  {
   "cell_type": "code",
   "execution_count": 24,
   "id": "f4df3836-7c9b-433f-9ffd-50e08cc49c57",
   "metadata": {},
   "outputs": [
    {
     "name": "stdin",
     "output_type": "stream",
     "text": [
      "Enter Array index  88\n"
     ]
    },
    {
     "name": "stdout",
     "output_type": "stream",
     "text": [
      "Please add a valid index :  list index out of range\n"
     ]
    }
   ],
   "source": [
    "# 3. Which Python statements are used to catch and handle exceptions? Explain with an example.\n",
    "\n",
    "#  Exception Handling Using try...except statement.\n",
    "\n",
    "try:\n",
    "    arr = [1,2,3,4,5,6]\n",
    "    i = int(input(\"Enter Array index \"))\n",
    "    print(arr[i])\n",
    "except IndexError as e:\n",
    "    print(\"Please add a valid index : \", e)"
   ]
  },
  {
   "cell_type": "code",
   "execution_count": null,
   "id": "f942db8c-3c6b-4d81-8219-1edfc3afb9f7",
   "metadata": {},
   "outputs": [],
   "source": [
    "4. Explain \n",
    "a. Try and else\n",
    "If there is no any issue and except not execute than else will exceute.\n",
    "exp-"
   ]
  },
  {
   "cell_type": "code",
   "execution_count": 1,
   "id": "316e53cd-5088-4f5d-80e2-21c88adb1386",
   "metadata": {},
   "outputs": [
    {
     "name": "stdout",
     "output_type": "stream",
     "text": [
      "This is my else block\n"
     ]
    }
   ],
   "source": [
    "try :\n",
    "    f= open(\"Test12Feb.txt\",'w')\n",
    "    f.write(\"This is my first liane of code \")\n",
    "    f.close() \n",
    "except Exception as e:\n",
    "    print(\"This is my Except block\", e)\n",
    "else :\n",
    "    f.close()\n",
    "    print(\"This is my else block\")"
   ]
  },
  {
   "cell_type": "code",
   "execution_count": 7,
   "id": "430680c7-4f75-4948-a8a0-ac8eb8ab7cc9",
   "metadata": {},
   "outputs": [
    {
     "name": "stdout",
     "output_type": "stream",
     "text": [
      "This is my Except block [Errno 2] No such file or directory: 'Test122Feb.txt'\n",
      "This is my finally block\n"
     ]
    }
   ],
   "source": [
    "# b. finally \n",
    "# Finally always will execute, Exception generate or not.\n",
    "# Like -- data base connection should be close, even successfully execute the task or not\n",
    "\n",
    "try :\n",
    "    f= open(\"Test122Feb.txt\",'r')\n",
    "    f.write(\"This is my first liane of code \")\n",
    "    f.close() \n",
    "except Exception as e:\n",
    "    print(\"This is my Except block\", e)\n",
    "finally :\n",
    "    f.close()\n",
    "    print(\"This is my finally block\")"
   ]
  },
  {
   "cell_type": "code",
   "execution_count": null,
   "id": "e130e784-e178-4a06-b934-697229f998f3",
   "metadata": {},
   "outputs": [],
   "source": [
    "# c.raise\n",
    "\n",
    "# By raise we can raise own exception and handle it.\n",
    "\n",
    "\n"
   ]
  },
  {
   "cell_type": "code",
   "execution_count": 2,
   "id": "c8cd8af5-7a28-4b8b-9d7d-d76c0d4c25ac",
   "metadata": {},
   "outputs": [],
   "source": [
    "class validateage(Exception):\n",
    "    def __init__(self, msg):\n",
    "        self.msg=msg"
   ]
  },
  {
   "cell_type": "code",
   "execution_count": 4,
   "id": "a7566fc2-bd11-42d9-ac96-6af76a39ac3d",
   "metadata": {},
   "outputs": [],
   "source": [
    "def FunValidateage(age):\n",
    "    if age<0 :\n",
    "        raise validateage(\"Enter Age is negative not Valid\")\n",
    "    elif age>200 :\n",
    "        raise validateage(\"Enter Age is very very high not Valid\")\n",
    "    else :\n",
    "        raise validateage(\"Enter age is valid\")\n",
    "        "
   ]
  },
  {
   "cell_type": "code",
   "execution_count": 7,
   "id": "58c1789f-ab5c-4d7c-8a5e-67c27983d927",
   "metadata": {},
   "outputs": [
    {
     "name": "stdin",
     "output_type": "stream",
     "text": [
      "Enter the Age :  100\n"
     ]
    },
    {
     "name": "stdout",
     "output_type": "stream",
     "text": [
      "Enter age is valid\n"
     ]
    }
   ],
   "source": [
    "try :\n",
    "    t = int(input(\"Enter the Age : \"))\n",
    "    FunValidateage(t)\n",
    "except validateage as e :\n",
    "    print(e)"
   ]
  },
  {
   "cell_type": "code",
   "execution_count": 8,
   "id": "d736b02e-4f37-4ccf-b10a-32dc000e66d9",
   "metadata": {},
   "outputs": [],
   "source": [
    "# 5. what are Custom Exception in python ? Why do we need custom Exceptions? Explain with an example .\n",
    "# Ans -- User defined Exceptions are designed as per the requirement of the program. \n",
    "# Using custom we can have our own exception and a meaningful message expalining the cause of exception.\n",
    "# example-- \n",
    "\n",
    "# by raise we can raise own exception \n",
    "\n"
   ]
  },
  {
   "cell_type": "code",
   "execution_count": 9,
   "id": "9db37996-7420-4e44-88a0-96229cc47583",
   "metadata": {},
   "outputs": [],
   "source": [
    "class validateMarks(Exception):\n",
    "    def __init__(self, msg):\n",
    "        self.msg=msg"
   ]
  },
  {
   "cell_type": "code",
   "execution_count": 14,
   "id": "ec5198e8-50f2-4625-a3e8-ff4f486a7a06",
   "metadata": {},
   "outputs": [],
   "source": [
    "def FunValidatemarks(marks):\n",
    "    if marks<0 :\n",
    "        raise validateMarks(\"Enter marks is negative\")\n",
    "    elif marks>100 :\n",
    "        raise validateMarks(\"Enter marks is more than 100 not valid\")\n",
    "    else :\n",
    "        raise validateMarks(\"Enter age is valid\")\n",
    "        "
   ]
  },
  {
   "cell_type": "code",
   "execution_count": 15,
   "id": "db5d1fed-60de-4fab-b729-9ed0b534e31d",
   "metadata": {},
   "outputs": [
    {
     "name": "stdin",
     "output_type": "stream",
     "text": [
      "Enter the marks  -55\n"
     ]
    },
    {
     "name": "stdout",
     "output_type": "stream",
     "text": [
      "Enter marks is negative\n"
     ]
    }
   ],
   "source": [
    "try :\n",
    "    m = int(input(\"Enter the marks \"))\n",
    "    FunValidatemarks(m)\n",
    "except validateMarks as e:\n",
    "    print(e)"
   ]
  },
  {
   "cell_type": "code",
   "execution_count": 16,
   "id": "90c55630-b6ff-4532-961f-6b3d98b155df",
   "metadata": {},
   "outputs": [],
   "source": [
    "# 6. Create a custom exception class. Use this to handle an exception"
   ]
  },
  {
   "cell_type": "code",
   "execution_count": 17,
   "id": "1f05b2b8-fff0-446f-aa4a-45b2618da94f",
   "metadata": {},
   "outputs": [],
   "source": [
    "class validateMarks(Exception):\n",
    "    def __init__(self, msg):\n",
    "        self.msg=msg"
   ]
  },
  {
   "cell_type": "code",
   "execution_count": 18,
   "id": "fa218708-b1eb-4c9b-8e80-8ddcb10059ac",
   "metadata": {},
   "outputs": [],
   "source": [
    "def FunValidatemarks(marks):\n",
    "    if marks<0 :\n",
    "        raise validateMarks(\"Enter marks is negative\")\n",
    "    elif marks>100 :\n",
    "        raise validateMarks(\"Enter marks is more than 100 not valid\")\n",
    "    else :\n",
    "        raise validateMarks(\"Enter age is valid\")\n",
    "        "
   ]
  },
  {
   "cell_type": "code",
   "execution_count": 19,
   "id": "fcc07d2b-9c72-4e65-a544-bb7eb3d120b2",
   "metadata": {},
   "outputs": [
    {
     "name": "stdin",
     "output_type": "stream",
     "text": [
      "Enter the marks  888\n"
     ]
    },
    {
     "name": "stdout",
     "output_type": "stream",
     "text": [
      "Enter marks is more than 100 not valid\n"
     ]
    }
   ],
   "source": [
    "try :\n",
    "    m = int(input(\"Enter the marks \"))\n",
    "    FunValidatemarks(m)\n",
    "except validateMarks as e:\n",
    "    print(e)"
   ]
  },
  {
   "cell_type": "code",
   "execution_count": null,
   "id": "9d6fa94d-c0f7-4438-a50a-c482b2ffc35c",
   "metadata": {},
   "outputs": [],
   "source": []
  }
 ],
 "metadata": {
  "kernelspec": {
   "display_name": "Python 3 (ipykernel)",
   "language": "python",
   "name": "python3"
  },
  "language_info": {
   "codemirror_mode": {
    "name": "ipython",
    "version": 3
   },
   "file_extension": ".py",
   "mimetype": "text/x-python",
   "name": "python",
   "nbconvert_exporter": "python",
   "pygments_lexer": "ipython3",
   "version": "3.10.8"
  }
 },
 "nbformat": 4,
 "nbformat_minor": 5
}
