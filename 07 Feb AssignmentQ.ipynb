{
 "cells": [
  {
   "cell_type": "code",
   "execution_count": 34,
   "id": "5713ad43-3ffc-4825-91b6-8d33d78c45b3",
   "metadata": {},
   "outputs": [],
   "source": [
    "# Q1. You are writing code for a company. The requirement of the company is that you create a python\n",
    "# function that will check whether the password entered by the user is correct or not. The function should\n",
    "# take the password as input and return the string “Valid Password” if the entered password follows the\n",
    "# below-given password guidelines else it should return “Invalid Password”.\n",
    "# Note: 1. The Password should contain at least two uppercase letters and at least two lowercase letters.\n",
    "# 2. The Password should contain at least a number and three special characters.\n",
    "# 3. The length of the password should be 10 characters long."
   ]
  },
  {
   "cell_type": "code",
   "execution_count": 10,
   "id": "df9ecd55-0c79-4cc9-aaf1-d778217bb103",
   "metadata": {},
   "outputs": [
    {
     "name": "stdin",
     "output_type": "stream",
     "text": [
      "Please Enter Your Password:   PPaa1&&&gg\n"
     ]
    },
    {
     "name": "stdout",
     "output_type": "stream",
     "text": [
      "Valid Password\n"
     ]
    }
   ],
   "source": [
    "length = lower = upper = special = digit = False\n",
    "import re\n",
    "Password = input(\"Please Enter Your Password:  \") \n",
    "if len(Password)>=10:\n",
    "    length=True\n",
    "    U=0\n",
    "    L=0\n",
    "    sp=0\n",
    "for i in Password :\n",
    " \n",
    "    if i.isupper() and upper != True :\n",
    "        U=U+1\n",
    "        if U==2:\n",
    "            upper=True       \n",
    "    elif i.islower() and lower != True :\n",
    "        L=L+1\n",
    "        if L==2:\n",
    "            lower=True\n",
    "    elif i.isdigit() and digit != True:\n",
    "        digit=True\n",
    "        \n",
    "    if bool(re.match('^[a-zA-Z0-9]*$',i))==True and special != True :\n",
    "        sp=sp+1\n",
    "        if sp==3:\n",
    "            special=True\n",
    "            \n",
    "if length and lower and upper and digit and special:\n",
    "    print('Valid Password')\n",
    "else:\n",
    "    print('Invalid Password')\n"
   ]
  },
  {
   "cell_type": "code",
   "execution_count": null,
   "id": "8428a13a-e59c-4d1b-b049-5581a08794e7",
   "metadata": {},
   "outputs": [],
   "source": [
    "# Q2. Solve the below-given questions using at least one of the following:\n",
    "# 1. Lambda function\n",
    "# 2. Filter function\n",
    "# 3. Map function.\n",
    "# 4. List ComprehensioI\n",
    "# B Check if the string starts with a particular letter.\n",
    "# B Check if the string is numeric.\n",
    "# B Sort a list of tuples having fruit names and their quantity. [(\"mango\",99),(\"orange\",80), (\"grapes\", 1000)-\n",
    "# B Find the squares of numbers from 1 to 10Y\n",
    "# B Find the cube root of numbers from 1 to 10Y\n",
    "# B Check if a given number is evenY\n",
    "# B Filter odd numbers from the given list.\n",
    "# [1,2,3,4,5,6,7,8,9,10-\n",
    "# B Sort a list of integers into positive and negative integers lists.\n",
    "# [1,2,3,4,5,6,-1,-2,-3,-4,-5,0]"
   ]
  },
  {
   "cell_type": "code",
   "execution_count": 36,
   "id": "c26cd59c-70c3-4970-8c9a-9971fe15e2d0",
   "metadata": {},
   "outputs": [
    {
     "name": "stdout",
     "output_type": "stream",
     "text": [
      "True\n"
     ]
    }
   ],
   "source": [
    "# B Check if the string starts with a particular letter.\n",
    "s=\"Hello, How are you?\"\n",
    "starts_with = lambda x: True if x.startswith('Hello') else False\n",
    "print(starts_with(s))"
   ]
  },
  {
   "cell_type": "code",
   "execution_count": 39,
   "id": "9c0654ef-c123-4543-aa76-16075f95f44e",
   "metadata": {},
   "outputs": [
    {
     "name": "stdin",
     "output_type": "stream",
     "text": [
      "Eneter Numeric Value:  17469541\n"
     ]
    },
    {
     "name": "stdout",
     "output_type": "stream",
     "text": [
      "string is numeric\n"
     ]
    }
   ],
   "source": [
    " # Check if the string is numeric.\n",
    "str= input(\"Eneter Numeric Value: \")\n",
    "if str.isdigit():\n",
    "    print(\"string is numeric\")"
   ]
  },
  {
   "cell_type": "code",
   "execution_count": null,
   "id": "9bfdaed5-7d05-44c1-9675-72a85ce1160c",
   "metadata": {},
   "outputs": [],
   "source": [
    " # Sort a list of tuples having fruit names and their quantity.\n",
    "    r=[(\"mango\",99),(\"orange\",80), (\"grapes\", 1000)]\n",
    "    sorted(r, key = lambda x : x[0],reverse=False)"
   ]
  },
  {
   "cell_type": "code",
   "execution_count": null,
   "id": "a8d8fba9-cebf-4141-bbe4-36a4994d81de",
   "metadata": {},
   "outputs": [],
   "source": [
    "# Find the squares of numbers from 1 to 10.\n",
    "[i**2 for i in range(1,10)]"
   ]
  },
  {
   "cell_type": "code",
   "execution_count": null,
   "id": "d7decb0c-6747-44a6-b7cb-3bc27f090c13",
   "metadata": {},
   "outputs": [],
   "source": [
    "list(map(lambda x: x**3, range(1,10)))"
   ]
  },
  {
   "cell_type": "code",
   "execution_count": 19,
   "id": "87da7820-bb4e-45b5-8d88-3c9edca5aeb0",
   "metadata": {},
   "outputs": [
    {
     "name": "stdin",
     "output_type": "stream",
     "text": [
      "Eneter the Number to Check Even:  1478\n"
     ]
    },
    {
     "name": "stdout",
     "output_type": "stream",
     "text": [
      "Given number is even : 1478\n"
     ]
    }
   ],
   "source": [
    "# B Check if a given number is even.\n",
    "num=int(input(\"Eneter the Number to Check Even: \"))\n",
    "if num%2==0:\n",
    "    print(\"Given number is even : \"+str(num))"
   ]
  },
  {
   "cell_type": "code",
   "execution_count": 20,
   "id": "6b60026d-b313-4206-8ebb-556f4ee3c8e9",
   "metadata": {},
   "outputs": [
    {
     "data": {
      "text/plain": [
       "[1, 3, 5, 7, 9]"
      ]
     },
     "execution_count": 20,
     "metadata": {},
     "output_type": "execute_result"
    }
   ],
   "source": [
    "# B Filter odd numbers from the given list.\n",
    "l= [1,2,3,4,5,6,7,8,9,10]\n",
    "[i for i in l if i%2 !=0]"
   ]
  },
  {
   "cell_type": "code",
   "execution_count": 21,
   "id": "5432f7f3-e5bd-4734-8f73-7a18e9b0158f",
   "metadata": {},
   "outputs": [],
   "source": [
    "#  Sort a list of integers into positive and negative integers lists.\n",
    "l1=[1,2,3,4,5,6,-1,-2,-3,-4,-5,0]\n",
    "positive=[i for i in l1 if i>=0]\n",
    "negative=[i for i in l1 if i<0]\n",
    "\n"
   ]
  },
  {
   "cell_type": "code",
   "execution_count": 26,
   "id": "cf78a8bf-5dac-45c9-82bc-9c2c6628aacb",
   "metadata": {},
   "outputs": [
    {
     "data": {
      "text/plain": [
       "[0, 1, 2, 3, 4, 5, 6]"
      ]
     },
     "execution_count": 26,
     "metadata": {},
     "output_type": "execute_result"
    }
   ],
   "source": [
    "    positive\n"
   ]
  },
  {
   "cell_type": "code",
   "execution_count": 27,
   "id": "1742ae62-6cd8-4296-8895-f4b02dfe1d45",
   "metadata": {},
   "outputs": [
    {
     "data": {
      "text/plain": [
       "[-1, -2, -3, -4, -5]"
      ]
     },
     "execution_count": 27,
     "metadata": {},
     "output_type": "execute_result"
    }
   ],
   "source": [
    "negative"
   ]
  },
  {
   "cell_type": "code",
   "execution_count": 32,
   "id": "60f4dca6-8cf5-4053-96f1-1421bddef381",
   "metadata": {},
   "outputs": [
    {
     "data": {
      "text/plain": [
       "[0, 1, 2, 3, 4, 5, 6]"
      ]
     },
     "execution_count": 32,
     "metadata": {},
     "output_type": "execute_result"
    }
   ],
   "source": [
    "sorted(positive, key = lambda x : x,reverse=False)"
   ]
  },
  {
   "cell_type": "code",
   "execution_count": 33,
   "id": "88d87d88-c3e7-4a8a-bb8b-478857f05c39",
   "metadata": {},
   "outputs": [
    {
     "data": {
      "text/plain": [
       "[-5, -4, -3, -2, -1]"
      ]
     },
     "execution_count": 33,
     "metadata": {},
     "output_type": "execute_result"
    }
   ],
   "source": [
    "sorted(negative, key = lambda x : x,reverse=False)"
   ]
  },
  {
   "cell_type": "code",
   "execution_count": null,
   "id": "ecbb9643-d4f8-4d82-990c-378656c7bc83",
   "metadata": {},
   "outputs": [],
   "source": []
  }
 ],
 "metadata": {
  "kernelspec": {
   "display_name": "Python 3 (ipykernel)",
   "language": "python",
   "name": "python3"
  },
  "language_info": {
   "codemirror_mode": {
    "name": "ipython",
    "version": 3
   },
   "file_extension": ".py",
   "mimetype": "text/x-python",
   "name": "python",
   "nbconvert_exporter": "python",
   "pygments_lexer": "ipython3",
   "version": "3.10.8"
  }
 },
 "nbformat": 4,
 "nbformat_minor": 5
}
