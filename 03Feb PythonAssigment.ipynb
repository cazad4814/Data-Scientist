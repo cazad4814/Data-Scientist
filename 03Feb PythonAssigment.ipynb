{
 "cells": [
  {
   "cell_type": "code",
   "execution_count": 22,
   "id": "b52ba926-ad9c-43c3-95b4-02907e328598",
   "metadata": {},
   "outputs": [],
   "source": [
    "# Q1. Which keyword is used to create a function? Create a function to return a list of odd numbers in the range of 1 to 25.\n",
    "\n",
    "# Ans: def keyword is used to create function. \n",
    "def OddNum(i,j):\n",
    "    return [e for e in range(i,j) if e%2 !=0]"
   ]
  },
  {
   "cell_type": "code",
   "execution_count": 23,
   "id": "4062a18d-e24f-4348-82e5-ade207abd79f",
   "metadata": {},
   "outputs": [
    {
     "data": {
      "text/plain": [
       "[1, 3, 5, 7, 9, 11, 13, 15, 17, 19, 21, 23]"
      ]
     },
     "execution_count": 23,
     "metadata": {},
     "output_type": "execute_result"
    }
   ],
   "source": [
    "OddNum(1,25)\n"
   ]
  },
  {
   "cell_type": "code",
   "execution_count": null,
   "id": "e62113d8-6798-4762-983b-4de3caa6d3d2",
   "metadata": {},
   "outputs": [],
   "source": [
    "# Q2. Why *args and **kwargs is used in some functions? Create a function each for *args and **kwargs\n",
    "# to demonstrate their use. "
   ]
  },
  {
   "cell_type": "code",
   "execution_count": 32,
   "id": "659d93ff-59d1-4420-856c-010a45e5ad4e",
   "metadata": {},
   "outputs": [],
   "source": [
    "#  *args : It is used to pass non keyword arguments to function.\n",
    "def test1(*args):\n",
    "    sum =0\n",
    "    for i in args:\n",
    "        sum=sum+i\n",
    "    return sum"
   ]
  },
  {
   "cell_type": "code",
   "execution_count": 33,
   "id": "9ddcbb78-a931-4788-a21d-1c8f7f66510d",
   "metadata": {},
   "outputs": [
    {
     "data": {
      "text/plain": [
       "8"
      ]
     },
     "execution_count": 33,
     "metadata": {},
     "output_type": "execute_result"
    }
   ],
   "source": [
    "test1(1,2,3,2)"
   ]
  },
  {
   "cell_type": "code",
   "execution_count": 47,
   "id": "49347d73-3e34-4ccd-8997-541d087db5c3",
   "metadata": {},
   "outputs": [],
   "source": [
    "#  **kwargs : It is used to pass keyword arguments to function.\n",
    "def test2(**kwargs):\n",
    "    l=[]\n",
    "    for k,v in kwargs.items():\n",
    "         l.append( \"{} : {}\".format(k,v))\n",
    "    return l\n",
    "  "
   ]
  },
  {
   "cell_type": "code",
   "execution_count": 48,
   "id": "34e7d153-ebb7-47d7-8206-73a3adfdbe63",
   "metadata": {},
   "outputs": [
    {
     "data": {
      "text/plain": [
       "['a : 1', 'b : 2', 'c : 3']"
      ]
     },
     "execution_count": 48,
     "metadata": {},
     "output_type": "execute_result"
    }
   ],
   "source": [
    "test2(a=1,b=2,c=3)"
   ]
  },
  {
   "cell_type": "code",
   "execution_count": 49,
   "id": "bd9fea72-0c3e-4423-ab86-4bafc5965630",
   "metadata": {},
   "outputs": [],
   "source": [
    "# Q3. What is an iterator in python? Name the method used to initialise the iterator object and the method\n",
    "# used for iteration. Use these methods to print the first five elements of the given list [2, 4, 6, 8, 10, 12, 14,\n",
    "# 16, 18, 20].\n"
   ]
  },
  {
   "cell_type": "code",
   "execution_count": 71,
   "id": "fc0b7556-8b0c-4ebb-9281-42fb25b48540",
   "metadata": {},
   "outputs": [
    {
     "data": {
      "text/plain": [
       "[2, 4, 6, 8, 10]"
      ]
     },
     "execution_count": 71,
     "metadata": {},
     "output_type": "execute_result"
    }
   ],
   "source": [
    "# Ans: iterator is a object to traverse through all values.\n",
    "# iter() -- initialise\n",
    "# next() -- iteration\n",
    "l=[2, 4, 6, 8, 10, 12, 14, 16, 18, 20]\n",
    "temp=iter(l)\n",
    "[next(temp) for i in range(0,5)]"
   ]
  },
  {
   "cell_type": "code",
   "execution_count": 75,
   "id": "4d17d190-dd3b-4670-b7ab-bb368b1f8abf",
   "metadata": {},
   "outputs": [
    {
     "name": "stdout",
     "output_type": "stream",
     "text": [
      "1\n",
      "2\n",
      "3\n"
     ]
    }
   ],
   "source": [
    "# Q4. What is a generator function in python? Why yield keyword is used? Give an example of a generator\n",
    "# function.\n",
    "\n",
    "# Ans: A generator function defined like a normal function. But whenever we need to generate value without return type\n",
    "# it comes with yield keyword.\n",
    "def test():\n",
    "    yield 1\n",
    "    yield 2\n",
    "    yield 3\n",
    "for i in test():\n",
    "    print(i)"
   ]
  },
  {
   "cell_type": "code",
   "execution_count": null,
   "id": "143f86b6-7438-4b94-9a49-252388e9a09a",
   "metadata": {},
   "outputs": [],
   "source": [
    "# Q5. Create a generator function for prime numbers less than 1000. Use the next() method to print the\n",
    "# first 20 prime numbers."
   ]
  },
  {
   "cell_type": "code",
   "execution_count": 36,
   "id": "0cdb90d8-02f3-4ad1-9779-99995a41f61d",
   "metadata": {},
   "outputs": [],
   "source": [
    "def getPrime(num):\n",
    "    i=2\n",
    "    while i<num:\n",
    "        prime= True\n",
    "        for e in range(2,i):\n",
    "            if i%e==0:\n",
    "                prime=False\n",
    "                break\n",
    "        if(prime):\n",
    "            yield i\n",
    "        i=i+1\n",
    "    "
   ]
  },
  {
   "cell_type": "code",
   "execution_count": 41,
   "id": "a6930cc5-75c2-4897-81d8-f84cd8f0115f",
   "metadata": {},
   "outputs": [
    {
     "data": {
      "text/plain": [
       "[2, 3, 5, 7, 11, 13, 17, 19, 23, 29, 31, 37, 41, 43, 47, 53, 59, 61, 67, 71]"
      ]
     },
     "execution_count": 41,
     "metadata": {},
     "output_type": "execute_result"
    }
   ],
   "source": [
    "l=iter(getPrime(1000))\n",
    "[next(l) for x in range(0,20)]"
   ]
  },
  {
   "cell_type": "code",
   "execution_count": null,
   "id": "134e01aa-7287-4bed-a4f1-08fe2048e38e",
   "metadata": {},
   "outputs": [],
   "source": [
    "# Q6. Write a python program to print the first 10 Fibonacci numbers using a while loop."
   ]
  },
  {
   "cell_type": "code",
   "execution_count": 4,
   "id": "660ea516-84bd-4bf6-8bd3-c89b4b582d99",
   "metadata": {},
   "outputs": [
    {
     "name": "stdout",
     "output_type": "stream",
     "text": [
      "0\n",
      "1\n",
      "1\n",
      "2\n",
      "3\n",
      "5\n",
      "8\n",
      "13\n",
      "21\n",
      "34\n"
     ]
    }
   ],
   "source": [
    "n1,n2=0,1\n",
    "i=0\n",
    "while i<10:\n",
    "    print(n1)\n",
    "    n3=n2+n1\n",
    "    n1=n2\n",
    "    n2=n3\n",
    "    i=i+1\n",
    "\n",
    "    "
   ]
  },
  {
   "cell_type": "code",
   "execution_count": 5,
   "id": "d2f39656-59ad-442d-987e-b66a50360263",
   "metadata": {},
   "outputs": [],
   "source": [
    "# Q7. Write a List Comprehension to iterate through the given string: ‘pwskills’.\n",
    "# Expected output: ['p', 'w', 's', 'k', 'i', 'l', 'l', 's']"
   ]
  },
  {
   "cell_type": "code",
   "execution_count": 6,
   "id": "89aa255a-09ab-4be1-afab-095297eff1e8",
   "metadata": {},
   "outputs": [
    {
     "data": {
      "text/plain": [
       "['p', 'w', 's', 'k', 'i', 'l', 'l', 's']"
      ]
     },
     "execution_count": 6,
     "metadata": {},
     "output_type": "execute_result"
    }
   ],
   "source": [
    "str1='pwskills'\n",
    "[i for i in str1]"
   ]
  },
  {
   "cell_type": "code",
   "execution_count": 7,
   "id": "6cb34402-609b-49b3-a5b2-2e10933fcf1a",
   "metadata": {},
   "outputs": [],
   "source": [
    "# Q8. Write a python program to check whether a given number is Palindrome or not using a while loop."
   ]
  },
  {
   "cell_type": "code",
   "execution_count": 21,
   "id": "fc4ec140-d6c6-4572-8b32-8b928ba37004",
   "metadata": {},
   "outputs": [
    {
     "name": "stdin",
     "output_type": "stream",
     "text": [
      "Enter the number to Check Palindrome:  145\n"
     ]
    },
    {
     "name": "stdout",
     "output_type": "stream",
     "text": [
      "541 Not Number is Palindrome\n"
     ]
    }
   ],
   "source": [
    "num = int(input(\"Enter the number to Check Palindrome: \"))\n",
    "temp=num\n",
    "res=0\n",
    "while num != 0:\n",
    "    rem=num%10\n",
    "    res=res*10+rem\n",
    "    num =num//10\n",
    "if (temp != res):\n",
    "    print(str(res)+\" Not Number is Palindrome\")\n",
    "else:  print(str(res)+\" Number is Palindrome\")"
   ]
  },
  {
   "cell_type": "code",
   "execution_count": 22,
   "id": "128835e3-d77e-444b-b213-10fd84e2fd91",
   "metadata": {},
   "outputs": [],
   "source": [
    "# Q9. Write a code to print odd numbers from 1 to 100 using list comprehension.\n",
    "# Note: Use a list comprehension to create a list from 1 to 100 and use another List comprehension to filter\n",
    "# out odd numbers."
   ]
  },
  {
   "cell_type": "code",
   "execution_count": 26,
   "id": "53098ae4-b42a-40b1-885f-ceae81f51dcc",
   "metadata": {},
   "outputs": [
    {
     "data": {
      "text/plain": [
       "[1,\n",
       " 3,\n",
       " 5,\n",
       " 7,\n",
       " 9,\n",
       " 11,\n",
       " 13,\n",
       " 15,\n",
       " 17,\n",
       " 19,\n",
       " 21,\n",
       " 23,\n",
       " 25,\n",
       " 27,\n",
       " 29,\n",
       " 31,\n",
       " 33,\n",
       " 35,\n",
       " 37,\n",
       " 39,\n",
       " 41,\n",
       " 43,\n",
       " 45,\n",
       " 47,\n",
       " 49,\n",
       " 51,\n",
       " 53,\n",
       " 55,\n",
       " 57,\n",
       " 59,\n",
       " 61,\n",
       " 63,\n",
       " 65,\n",
       " 67,\n",
       " 69,\n",
       " 71,\n",
       " 73,\n",
       " 75,\n",
       " 77,\n",
       " 79,\n",
       " 81,\n",
       " 83,\n",
       " 85,\n",
       " 87,\n",
       " 89,\n",
       " 91,\n",
       " 93,\n",
       " 95,\n",
       " 97,\n",
       " 99]"
      ]
     },
     "execution_count": 26,
     "metadata": {},
     "output_type": "execute_result"
    }
   ],
   "source": [
    "[i for i in range(1,100) if i%2 !=0]"
   ]
  },
  {
   "cell_type": "code",
   "execution_count": null,
   "id": "0b594b88-228f-4ae3-a576-ff2b7474bc7a",
   "metadata": {},
   "outputs": [],
   "source": []
  }
 ],
 "metadata": {
  "kernelspec": {
   "display_name": "Python 3 (ipykernel)",
   "language": "python",
   "name": "python3"
  },
  "language_info": {
   "codemirror_mode": {
    "name": "ipython",
    "version": 3
   },
   "file_extension": ".py",
   "mimetype": "text/x-python",
   "name": "python",
   "nbconvert_exporter": "python",
   "pygments_lexer": "ipython3",
   "version": "3.10.8"
  }
 },
 "nbformat": 4,
 "nbformat_minor": 5
}
