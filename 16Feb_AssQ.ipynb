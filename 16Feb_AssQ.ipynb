{
 "cells": [
  {
   "cell_type": "code",
   "execution_count": 1,
   "id": "a7324766-d492-4e3b-aa4e-751d1eec00c1",
   "metadata": {},
   "outputs": [],
   "source": [
    "# Q1. What is a database? Differentiate between SQL and NoSQL databases.\n",
    "# Ans -  Database is the storage of collection of specific informations.\n",
    "# SQl - Structured Query language \n",
    "#  -- SQl has predefined schemas as per defined schemas only we can store data. \n",
    "# NoSql - Not only Structure Query language \n",
    "# -- NoSql has dynamic  schemas for Unstructure data. Data store in may ways, it can be document oriented, graph oriented or key values etc.\n"
   ]
  },
  {
   "cell_type": "code",
   "execution_count": 2,
   "id": "502d127b-af51-4aa2-a2de-78d5262fe52e",
   "metadata": {},
   "outputs": [],
   "source": [
    "# Q2. What is DDL? Explain why CREATE, DROP, ALTER, and TRUNCATE are used with an example.\n",
    "# Ans - DDL Data defination language is the set of SQl. It has following commands Create, Drop , Alter, and truncate   \n",
    "# CREATE -  create table Table_Name(Id int , Name Varchar(50), Address Varchar(50))\n",
    "# DROP - Drop table table_name \n",
    "# Alter - Alter table table_nam Add Column_Name data_type\n",
    "# Truncate -  Truncate table table_name\n"
   ]
  },
  {
   "cell_type": "code",
   "execution_count": 3,
   "id": "c2726d01-17ac-414b-9e72-fec5f795c70a",
   "metadata": {},
   "outputs": [],
   "source": [
    "# Q3. What is DML? Explain INSERT, UPDATE, and DELETE with an example.\n",
    "# Ans - Data manupaltion language is the set of SQL. \n",
    "# It has following commands.\n",
    "# INSERT - Insert into Table Table_name(Id, Name, Address) values(1,'Ramesh','Karnataka')\n",
    "# UPDATE  - Update table_name set Name=\"Mohan\" where Id=1\n",
    "# DELETE - Delete from table table_name where id =1\n"
   ]
  },
  {
   "cell_type": "code",
   "execution_count": 4,
   "id": "d7b1c875-4263-4342-9da3-4b3089971ea7",
   "metadata": {},
   "outputs": [],
   "source": [
    "#  Q4. What is DQL? Explain SELECT with an example.\n",
    "# Data query language is the set of SQL. It has select command.\n",
    "# SELECT -  select is used to fetch data from table.\n",
    "#      SELECT * FROM TABLE Table_name"
   ]
  },
  {
   "cell_type": "code",
   "execution_count": 5,
   "id": "64aff8c3-048c-4298-982f-26b8b632d4e3",
   "metadata": {},
   "outputs": [],
   "source": [
    "# Q5. Explain Primary Key and Foreign Key.\n",
    "# Primary Key - Primary Key is the set of columns that is uniquely identify the each rows in table.\n",
    "#  it has no any null values and only one primery key availabe in a single table.\n",
    "# Foreign Key - Foreign Key is the set of column(s) that is refer to promery key of another table. It is used for link of two table.\n"
   ]
  },
  {
   "cell_type": "code",
   "execution_count": 6,
   "id": "11eef049-e19b-4953-a31b-2fcc4971f0c4",
   "metadata": {},
   "outputs": [],
   "source": [
    "# Q6. Write a python code to connect MySQL to python. Explain the cursor() and execute() method.\n",
    "# ANS- \n",
    "\n",
    "# import mysql.connector\n",
    "# mydb = mysql.connector.connect(\n",
    "#   host=\"localhost\",\n",
    "#   user=\"User_Name\",\n",
    "#   password=\"Password\"\n",
    "# )\n",
    "\n",
    "# cursor()  - It is method to execute statement to communicate with mysql database\n",
    "# execute()  - Is is used to execute DDL statement. It return boolean value.\n",
    "\n"
   ]
  },
  {
   "cell_type": "code",
   "execution_count": null,
   "id": "3a1009a6-8446-4bed-9a1f-e006ea26a389",
   "metadata": {},
   "outputs": [],
   "source": [
    "# Q7. Give the order of execution of SQL clauses in an SQL query.\n",
    "ANS - \n",
    "\n",
    "1. FROM/JOIN: The FROM and/or JOIN clauses are executed first to determine the data of interest.\n",
    "\n",
    "2. WHERE: The WHERE clause is executed to filter out records that do not meet the constraints.\n",
    "\n",
    "3. GROUP BY: The GROUP BY clause is executed to group the data based on the values in one or more columns.\n",
    "\n",
    "4. HAVING: The HAVING clause is executed to remove the created grouped records that don’t meet the constraints.\n",
    "\n",
    "5. SELECT: The SELECT clause is executed to derive all desired columns and expressions.\n",
    "\n",
    "6. ORDER BY: The ORDER BY clause is executed to sort the derived values in ascending or descending order.\n",
    "\n",
    "7. LIMIT/OFFSET: Finally, the LIMIT and/or OFFSET clauses are executed to keep or skip a specified number of rows."
   ]
  }
 ],
 "metadata": {
  "kernelspec": {
   "display_name": "Python 3 (ipykernel)",
   "language": "python",
   "name": "python3"
  },
  "language_info": {
   "codemirror_mode": {
    "name": "ipython",
    "version": 3
   },
   "file_extension": ".py",
   "mimetype": "text/x-python",
   "name": "python",
   "nbconvert_exporter": "python",
   "pygments_lexer": "ipython3",
   "version": "3.10.8"
  }
 },
 "nbformat": 4,
 "nbformat_minor": 5
}
