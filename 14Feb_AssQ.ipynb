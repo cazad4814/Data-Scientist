{
 "cells": [
  {
   "cell_type": "code",
   "execution_count": 1,
   "id": "f00dacc0-b3fb-4b6e-922e-ad5a9c8b787d",
   "metadata": {},
   "outputs": [],
   "source": [
    "# 1. what is multithreading in python? why is it used? Name the module used to handle threads in python\n",
    "\n",
    "# Ans- Multithreading is the ability of program in python to exceute multiple threads concurrently with in a single process.\n",
    "# A thread is a seperate flow of execution that can run  simultaseously with other threadas. It has number of benefits like \n",
    "# Improved performance, Responsiveness, Asynchronous programming etc.\n",
    "# threading module is used to handle threads in python.\n"
   ]
  },
  {
   "cell_type": "code",
   "execution_count": 1,
   "id": "c3abe4a9-4d15-41bb-8144-0dfe64dc88b5",
   "metadata": {},
   "outputs": [],
   "source": [
    "# 2. Why threading module used? Write the use of the following functions\n",
    "#  1.activeCount()\n",
    "#  2.currentThread\n",
    "#  3.enumerate()\n",
    "\n",
    "# Ans- Threading module is used to handle threads and enable concurrent execution of tasks with in program.\n",
    "# 1. activeCount() - This functions is used to count active threads in a program.\n",
    "# 2. CurrentThread() - is constant that represents the thread object corresponding to the current thread of execution. \n",
    "#    It return the current thread object, allowing to access its attribute and perform operation of current thread.\n",
    "# 3. enumerate() - functions to list active threads object and haven't been terminated."
   ]
  },
  {
   "cell_type": "code",
   "execution_count": 1,
   "id": "1d63977e-d808-4f80-814a-58f0680bfa11",
   "metadata": {},
   "outputs": [],
   "source": [
    "# 3. Explain the following functions\n",
    "#  1.run()\n",
    "#  2.start()\n",
    "#  3.join()\n",
    "#  4.isAlive()\n",
    "\n",
    "# Ans - 1. run()- is the entry point of the thread activity. When a thread's object start() method called. internally call run() method.\n",
    "#     2. Start() - It is used to start Thread's execution.\n",
    "#     3. Join() - function is used to wait for a thread to complete its execution. \n",
    "#      This allow for synchronization between threads, ensuring that the calling thread doesn't proceed until the target thread finish the work.\n",
    "        \n",
    "#     4. isAlive() - function to check thread is still alive or running. It retirn boolean value.  "
   ]
  },
  {
   "cell_type": "code",
   "execution_count": 2,
   "id": "0bd95da0-201a-499c-ba55-f8b4909ce4dc",
   "metadata": {},
   "outputs": [],
   "source": [
    "# 4. write a python program to create two threads. Thread one must print the list of squares and thread\n",
    "# two must print the list of cubes"
   ]
  },
  {
   "cell_type": "code",
   "execution_count": 3,
   "id": "15ccc31b-5415-452d-9b2f-427358f980ae",
   "metadata": {},
   "outputs": [],
   "source": [
    "import threading"
   ]
  },
  {
   "cell_type": "code",
   "execution_count": 25,
   "id": "42d509e4-9b10-49c0-9455-ef8b7cbd6221",
   "metadata": {},
   "outputs": [
    {
     "name": "stdout",
     "output_type": "stream",
     "text": [
      "List of Squares:  [1, 4, 9, 16, 25, 36, 49, 64, 81]\n",
      "List of Cubes: [1, 8, 27, 64, 125, 216, 343, 512, 729]\n"
     ]
    }
   ],
   "source": [
    "def FunSquares(l):\n",
    "    res=[i**2 for i in l ]\n",
    "    print(\"List of Squares: \" ,res)\n",
    "\n",
    "def FunCubes(l):\n",
    "    res = [i**3 for i in l]\n",
    "    print(\"List of Cubes:\" , res)\n",
    "        \n",
    "l=[1,2,3,4,5,6,7,8,9]\n",
    "thread1=threading.Thread(target=FunSquares , args=(l,))\n",
    "thread2=threading.Thread(target=FunCubes, args=(l,))\n",
    "\n",
    "thread1.start()\n",
    "thread2.start()\n",
    "thread1.join()\n",
    "thread2.join()"
   ]
  },
  {
   "cell_type": "code",
   "execution_count": 26,
   "id": "d90a574b-f71e-47a8-8316-6424d74b9ea5",
   "metadata": {},
   "outputs": [],
   "source": [
    "# 5. State advantages and disadvantages of multithreading\n",
    "# Ans- Multithreading , The concurrent execution of multi threads in a single process. that gives the a numbers of advantages and disadvantages\n",
    "# Advantages -- \n",
    "# 1. Imnprove Performance -- Multiple tasks executing simultaneously so, tasks has been divided and incease the performance of system.\n",
    "# 2. Responsiveness: Multithreading allow a program to remain responsive even any task need to considarable amount of time.\n",
    "# 3. Resource Sharing : In Multithreading multiple threads can share same resource efficiently.\n",
    "# 4. Asynchronous Operation: Multipe tasks can inititates and executed concurrently.\n",
    "\n",
    "# DisAdvantages -\n",
    "# 1. Complexity : Multithreading programing introduces complexity such as synchronous, race condition, and deadlock etc.\n",
    "# 2. Increase Memory Consumption : Each thread has own stack and thread specific resources.\n"
   ]
  },
  {
   "cell_type": "code",
   "execution_count": null,
   "id": "a64941dc-5da1-4a47-afa0-fb0322779822",
   "metadata": {},
   "outputs": [],
   "source": [
    "# 6. Explain deadlocks and race conditions.\n",
    "# DeadLock - When more than one thread blocked indefinitly, and wating for each other to realease resources that they hold.\n",
    "# Race Condition - More than one thread executing Simultaneously and share the same resources And Result depends order of execution of threads.\n"
   ]
  }
 ],
 "metadata": {
  "kernelspec": {
   "display_name": "Python 3 (ipykernel)",
   "language": "python",
   "name": "python3"
  },
  "language_info": {
   "codemirror_mode": {
    "name": "ipython",
    "version": 3
   },
   "file_extension": ".py",
   "mimetype": "text/x-python",
   "name": "python",
   "nbconvert_exporter": "python",
   "pygments_lexer": "ipython3",
   "version": "3.10.8"
  }
 },
 "nbformat": 4,
 "nbformat_minor": 5
}
