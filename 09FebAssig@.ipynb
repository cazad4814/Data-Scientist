{
 "cells": [
  {
   "cell_type": "code",
   "execution_count": 1,
   "id": "e63af64f-d357-454c-adb3-1f493a559df9",
   "metadata": {},
   "outputs": [],
   "source": [
    "# Q1, Create a vehicle class with an init method having instance variables as name_of_vehicle, max_speed\n",
    "# and average_of_vehicle."
   ]
  },
  {
   "cell_type": "code",
   "execution_count": 39,
   "id": "3e31ab4d-8525-4927-8aac-345883cbde3d",
   "metadata": {},
   "outputs": [],
   "source": [
    "class vehicle:\n",
    "    def __init__(self,name_of_vehicle,max_speed,average_of_vehicle):\n",
    "        self.name_of_vehicle=name_of_vehicle\n",
    "        self.max_speed=max_speed\n",
    "        self.average_of_vehicle=average_of_vehicle"
   ]
  },
  {
   "cell_type": "code",
   "execution_count": 38,
   "id": "fb1671aa-5580-46ba-b761-bdaa8363a557",
   "metadata": {},
   "outputs": [],
   "source": [
    "# vehicle=vehicle(\"Toyata\",\"36km/hr\",\"50k/hr\")"
   ]
  },
  {
   "cell_type": "code",
   "execution_count": null,
   "id": "6560dd18-672c-494e-bec7-d6533d1c66f1",
   "metadata": {},
   "outputs": [],
   "source": []
  },
  {
   "cell_type": "code",
   "execution_count": 8,
   "id": "1ebe5e96-3158-4ea3-a303-d6668f8b1001",
   "metadata": {},
   "outputs": [],
   "source": [
    "# Q2. Create a child class car from the vehicle class created in Que 1, which will inherit the vehicle class.\n",
    "# Create a method named seating_capacity which takes capacity as an argument and returns the name of\n",
    "# the vehicle and its seating capacity.\n"
   ]
  },
  {
   "cell_type": "code",
   "execution_count": 61,
   "id": "9da8b8b4-b48e-4336-bd43-7daa79227662",
   "metadata": {},
   "outputs": [],
   "source": [
    "class car(vehicle):\n",
    "    def seating_capacity(self,capacity):\n",
    "        return capacity,self.name_of_vehicle"
   ]
  },
  {
   "cell_type": "code",
   "execution_count": 62,
   "id": "d9491cd4-1c4b-4e81-befe-40d897cdd5a7",
   "metadata": {},
   "outputs": [],
   "source": [
    "car_obj=car(\"Toyata\",\"36km/hr\",\"50k/hr\")\n"
   ]
  },
  {
   "cell_type": "code",
   "execution_count": 63,
   "id": "ee0d4243-3f60-4eb2-a071-0e2f7b8ecfa6",
   "metadata": {},
   "outputs": [
    {
     "data": {
      "text/plain": [
       "(22, 'Toyata')"
      ]
     },
     "execution_count": 63,
     "metadata": {},
     "output_type": "execute_result"
    }
   ],
   "source": [
    "car_obj.seating_capacity(22)"
   ]
  },
  {
   "cell_type": "code",
   "execution_count": 64,
   "id": "f5bbabb7-cdee-4dc9-9f98-7ea239c3198c",
   "metadata": {},
   "outputs": [],
   "source": [
    "# Q3. What is multiple inheritance? Write a python code to demonstrate multiple inheritance."
   ]
  },
  {
   "cell_type": "code",
   "execution_count": 134,
   "id": "124fa408-3547-4f5b-8c27-cd1fc95f49ec",
   "metadata": {},
   "outputs": [],
   "source": [
    "class Father(): \n",
    "     def __init__(self, f_name):\n",
    "            self.f_name = f_name\n",
    "class Mother():\n",
    "    def __init__(self, m_name):\n",
    "        self.m_name = m_name\n",
    "    \n",
    "class Child(Father,Mother): \n",
    "    def __init__(self, c_name,f_name, m_name):\n",
    "        self.c_name = c_name\n",
    "        Father.__init__(self, f_name)\n",
    "        Mother.__init__(self, m_name)\n",
    "    def getParents(self):\n",
    "        return [self.c_name+\" Father's Name: \"+self.f_name, self.c_name+\" Mother's Name: \"+self.m_name]"
   ]
  },
  {
   "cell_type": "code",
   "execution_count": 135,
   "id": "2efe1c67-f416-460c-b4bf-4c758cb79c6e",
   "metadata": {},
   "outputs": [],
   "source": [
    "obj=Child(\"Ravi\",\"Mohan\",\"Geeta\")"
   ]
  },
  {
   "cell_type": "code",
   "execution_count": 136,
   "id": "3acbf5b4-1639-4d2a-8a26-18fd8ad952f2",
   "metadata": {},
   "outputs": [
    {
     "data": {
      "text/plain": [
       "[\"Ravi Father's Name: Mohan\", \"Ravi Mother's Name: Geeta\"]"
      ]
     },
     "execution_count": 136,
     "metadata": {},
     "output_type": "execute_result"
    }
   ],
   "source": [
    "obj.getParents()"
   ]
  },
  {
   "cell_type": "code",
   "execution_count": 137,
   "id": "fc1adf28-1049-4915-bd3c-48a0b1eef015",
   "metadata": {},
   "outputs": [],
   "source": [
    "# Q4. What are getter and setter in python? Create a class and create a getter and a setter method in this\n",
    "# class."
   ]
  },
  {
   "cell_type": "code",
   "execution_count": 146,
   "id": "9480838d-a3c2-4952-8abf-45d22956ac8c",
   "metadata": {},
   "outputs": [],
   "source": [
    "class Car:\n",
    "    def __init__(self,name,speed):\n",
    "        self.__name=name\n",
    "        self.__speed=0\n",
    "    def set_carName(self,name):\n",
    "        self.__name\n",
    "    def set_carSpeed(self,speed):\n",
    "        self.__speed=0 if speed<0 else speed\n",
    "    def get_carName(self):\n",
    "        return  self.__name\n",
    "    def get_carSpeed(self):\n",
    "        return  self.__speed\n",
    "\n"
   ]
  },
  {
   "cell_type": "code",
   "execution_count": 147,
   "id": "937c10fb-cb1b-4bf9-ae17-cc195c3f975c",
   "metadata": {},
   "outputs": [],
   "source": [
    "carObj=Car(\"Toyata\",256)"
   ]
  },
  {
   "cell_type": "code",
   "execution_count": 152,
   "id": "251d5663-4123-4169-a4e4-b773b1423320",
   "metadata": {},
   "outputs": [],
   "source": [
    "carObj.set_carSpeed(566)"
   ]
  },
  {
   "cell_type": "code",
   "execution_count": 153,
   "id": "3d1ae891-9a37-473f-97f5-f375419b0741",
   "metadata": {},
   "outputs": [
    {
     "data": {
      "text/plain": [
       "566"
      ]
     },
     "execution_count": 153,
     "metadata": {},
     "output_type": "execute_result"
    }
   ],
   "source": [
    "carObj.get_carSpeed()"
   ]
  },
  {
   "cell_type": "code",
   "execution_count": 154,
   "id": "2db81304-0b60-4f47-9c74-8c3080e438b3",
   "metadata": {},
   "outputs": [],
   "source": [
    "# Q5.What is method overriding in python? Write a python code to demonstrate method overriding."
   ]
  },
  {
   "cell_type": "code",
   "execution_count": 155,
   "id": "e18a766a-a92e-428b-b863-262d19062739",
   "metadata": {},
   "outputs": [],
   "source": [
    "# Ans: Method overriding is the ability of any object oriented programming language to allow child or sub class to provide a \n",
    "# specific impementation of a method that is already defined in parent or super class."
   ]
  },
  {
   "cell_type": "code",
   "execution_count": null,
   "id": "1b52a880-4a07-4f47-bfea-38071849ead4",
   "metadata": {},
   "outputs": [],
   "source": []
  }
 ],
 "metadata": {
  "kernelspec": {
   "display_name": "Python 3 (ipykernel)",
   "language": "python",
   "name": "python3"
  },
  "language_info": {
   "codemirror_mode": {
    "name": "ipython",
    "version": 3
   },
   "file_extension": ".py",
   "mimetype": "text/x-python",
   "name": "python",
   "nbconvert_exporter": "python",
   "pygments_lexer": "ipython3",
   "version": "3.10.8"
  }
 },
 "nbformat": 4,
 "nbformat_minor": 5
}
